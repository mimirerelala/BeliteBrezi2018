{
 "cells": [
  {
   "cell_type": "markdown",
   "metadata": {},
   "source": [
    "## Работа с цифрови астрономически изображение с помощта на Python и astropy \n",
    "\n",
    "---\n",
    "\n",
    "Целта на упражнението е да можем да отваряме и променяме астрономически изображения с помощта на езика Python.\n",
    "Използваме jupyter notebook за интерактивна работа\n",
    "\n",
    "* В част едно ще отворим един кадър. Данните ще са запазени в променливите data, header. Можем да променяме ключови думи, да правим аритметика или дирекотно да променяме пискелни координати.\n",
    "\n",
    "* В втората част ще се опитаме да генерираме изкуствено изображение, използвайки случайни числа за позициите и стойностите на пикселите на звездите. Използваме Гаусова функция за формате на звездата, добавяме и произволен сигнал за фон.\n",
    "\n",
    "* В част три ще търсим координатите на звездите от оригинално изображение, чрез проста функция find_stars."
   ]
  },
  {
   "cell_type": "markdown",
   "metadata": {},
   "source": [
    "## Част 1"
   ]
  },
  {
   "cell_type": "code",
   "execution_count": 35,
   "metadata": {},
   "outputs": [
    {
     "data": {
      "text/plain": [
       "astropy.io.fits.header.Header"
      ]
     },
     "execution_count": 35,
     "metadata": {},
     "output_type": "execute_result"
    }
   ],
   "source": [
    "from __future__ import division\n",
    "import os\n",
    "from astropy.io import fits\n",
    "import numpy as np\n",
    "\n",
    "moiat_file = 'new-image.fits'\n",
    "data, header = fits.getdata(moiat_file,header=True, update=True)\n",
    "header['DATE-OBS'] = '2018-08-06T20:33:10'\n",
    "\n",
    "type(moiat_file)\n",
    "type(header)\n"
   ]
  },
  {
   "cell_type": "markdown",
   "metadata": {},
   "source": [
    "## Част 2"
   ]
  },
  {
   "cell_type": "code",
   "execution_count": 36,
   "metadata": {},
   "outputs": [
    {
     "name": "stdout",
     "output_type": "stream",
     "text": [
      "[[0. 0. 0. ... 0. 0. 0.]\n",
      " [0. 0. 0. ... 0. 0. 0.]\n",
      " [0. 0. 0. ... 0. 0. 0.]\n",
      " ...\n",
      " [0. 0. 0. ... 0. 0. 0.]\n",
      " [0. 0. 0. ... 0. 0. 0.]\n",
      " [0. 0. 0. ... 0. 0. 0.]]\n",
      "[[0. 0. 0. ... 0. 0. 0.]\n",
      " [0. 0. 0. ... 0. 0. 0.]\n",
      " [0. 0. 0. ... 0. 0. 0.]\n",
      " ...\n",
      " [0. 0. 0. ... 0. 0. 0.]\n",
      " [0. 0. 0. ... 0. 0. 0.]\n",
      " [0. 0. 0. ... 0. 0. 0.]]\n"
     ]
    }
   ],
   "source": [
    "## test \n",
    "data = np.zeros((400,400))\n",
    "print data\n",
    "hdu = fits.PrimaryHDU(data=data)\n",
    "hdu.writeto('generatedbyus.fits',overwrite=True)\n",
    "moiat_file = 'generatedbyus.fits'\n",
    "new_data, header = fits.getdata(moiat_file,header=True, update=True)\n",
    "print(new_data)"
   ]
  },
  {
   "cell_type": "markdown",
   "metadata": {},
   "source": [
    "### Можем да варираме параметрита за да създадем различни изображения. Всеки път резултатът ще презаписва ново изображение. По кои белези можем да забележим че изображението е симулирано?\n"
   ]
  },
  {
   "cell_type": "code",
   "execution_count": 49,
   "metadata": {},
   "outputs": [],
   "source": [
    "#Vary those\n",
    "\n",
    "#create our own image, x_len by y_len pixels\n",
    "x_len = 1000\n",
    "y_len = 1000\n",
    "number_sim_stars = 100\n",
    "#pixels, seeing measure, play with those\n",
    "r = 1.1\n",
    "#actual star spread\n",
    "r_star = 25\n",
    "\n",
    "#create initial background\n",
    "data = np.zeros((x_len, y_len), dtype=int)\n",
    "\n",
    "for i in range(x_len):\n",
    "    for j in range(y_len):\n",
    "        data[i,j] = np.random.randint(2000,2100)#create background\n",
    "\n",
    "\n",
    "for n in range(number_sim_stars):\n",
    "    x0,y0 = np.random.randint(r_star,x_len-r_star),np.random.randint(r_star,y_len-r_star)#do not go outsied image\n",
    "    signal = np.random.randint(10000,50000)#create central signal peak7\n",
    "    r_scaled = r*signal/50000#scale star by its intensity\n",
    "    for i in range(x0-r_star, x0+r_star+1):\n",
    "        for y in range(y0-r_star, y0+r_star+1):\n",
    "            current_r = ((i-x0)**2 + (y-y0)**2)**0.5\n",
    "            if current_r <= r_star:\n",
    "                #some kind of gaussian shape\n",
    "                data[i,y] += signal*np.exp(-(current_r)**2/(2*r_scaled**2))\n",
    "\n",
    "\n",
    "hdu = fits.PrimaryHDU(data=data)\n",
    "hdu.writeto('my-just-generated.fits', overwrite=True)\n",
    "#os.remove('my-just-generated.fits')"
   ]
  },
  {
   "cell_type": "markdown",
   "metadata": {},
   "source": [
    "## Част 3 - търсене на звезди в полето\n",
    "\n",
    "Функцията find_stars търси сигнал над даден праг (threshold).\n",
    "Подаваме му масив img от вече прочетено изображение. \n",
    "\n",
    "Какви пропуски можем да имаме? Защо намираме по-малко звезди отколкото имаме?\n"
   ]
  },
  {
   "cell_type": "code",
   "execution_count": 51,
   "metadata": {},
   "outputs": [
    {
     "name": "stdout",
     "output_type": "stream",
     "text": [
      "92\n"
     ]
    }
   ],
   "source": [
    "\n",
    "def find_stars(img, threshold, star_rad = 25):\n",
    "    found_stars = []#create a list for the new-found positions\n",
    "    brightestpixel=img.max() # find the brightest pixel on the image\n",
    "\n",
    "    while brightestpixel > threshold:#set a minumum value of the brightest point\n",
    "\n",
    "        starindex=np.where(img==brightestpixel)#find the indices of the brigthest pixel\n",
    "\n",
    "        x_position=starindex[1]#turn these into coordinates of the point\n",
    "        y_position=starindex[0]\n",
    "        \n",
    "        found_stars.append((x_position[0], y_position[0]))#add coordinates to the array\n",
    "        \n",
    "        delta_r = star_rad\n",
    "        xmin = starindex[0][0]-delta_r#use parameters to find the indices of the square to be removed\n",
    "        ymin = starindex[1][0]-delta_r\n",
    "        xmax = starindex[0][0]+delta_r\n",
    "        ymax = starindex[1][0]+delta_r\n",
    "\n",
    "        img[xmin:xmax,ymin:ymax]=threshold-1# substitute those values with zeros\n",
    "\n",
    "        brightestpixel=img.max()\n",
    "    return np.array(found_stars)\n",
    "     \n",
    "    \n",
    "moiat_file = 'my-just-generated.fits'\n",
    "data, header = fits.getdata(moiat_file,header=True)\n",
    "\n",
    "star_coords = find_stars(data,2100)\n",
    "print len(star_coords)\n"
   ]
  },
  {
   "cell_type": "code",
   "execution_count": null,
   "metadata": {},
   "outputs": [],
   "source": []
  }
 ],
 "metadata": {
  "kernelspec": {
   "display_name": "Python 2",
   "language": "python",
   "name": "python2"
  },
  "language_info": {
   "codemirror_mode": {
    "name": "ipython",
    "version": 2
   },
   "file_extension": ".py",
   "mimetype": "text/x-python",
   "name": "python",
   "nbconvert_exporter": "python",
   "pygments_lexer": "ipython2",
   "version": "2.7.14"
  }
 },
 "nbformat": 4,
 "nbformat_minor": 2
}
